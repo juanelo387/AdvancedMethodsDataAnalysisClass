{
  "nbformat": 4,
  "nbformat_minor": 0,
  "metadata": {
    "kernelspec": {
      "display_name": "Python 3",
      "language": "python",
      "name": "python3"
    },
    "language_info": {
      "codemirror_mode": {
        "name": "ipython",
        "version": 3
      },
      "file_extension": ".py",
      "mimetype": "text/x-python",
      "name": "python",
      "nbconvert_exporter": "python",
      "pygments_lexer": "ipython3",
      "version": "3.7.4"
    },
    "colab": {
      "name": "E14-LSTM.ipynb",
      "provenance": []
    },
    "accelerator": "GPU"
  },
  "cells": [
    {
      "cell_type": "markdown",
      "metadata": {
        "id": "6CSVSjjX1vm-",
        "colab_type": "text"
      },
      "source": [
        "# Exercise 14\n",
        "\n",
        "## Predict rating using LSTM\n"
      ]
    },
    {
      "cell_type": "code",
      "metadata": {
        "id": "JpFFKJOI1vnB",
        "colab_type": "code",
        "colab": {}
      },
      "source": [
        "import pandas as pd"
      ],
      "execution_count": 1,
      "outputs": []
    },
    {
      "cell_type": "code",
      "metadata": {
        "id": "pn2YAVpF1vnK",
        "colab_type": "code",
        "colab": {}
      },
      "source": [
        "dataTraining = pd.read_csv('https://github.com/albahnsen/AdvancedMethodsDataAnalysisClass/raw/master/datasets/dataTraining.zip', encoding='UTF-8', index_col=0)"
      ],
      "execution_count": 2,
      "outputs": []
    },
    {
      "cell_type": "code",
      "metadata": {
        "id": "HLrcHKsZ1vnP",
        "colab_type": "code",
        "colab": {}
      },
      "source": [
        "plots = dataTraining['plot']\n",
        "y = (dataTraining['rating'] >= dataTraining['rating'].mean()).astype(int)"
      ],
      "execution_count": 3,
      "outputs": []
    },
    {
      "cell_type": "code",
      "metadata": {
        "id": "lIxbfQzV1vnX",
        "colab_type": "code",
        "colab": {
          "base_uri": "https://localhost:8080/",
          "height": 225
        },
        "outputId": "d93a9790-9219-40f0-f016-bddbf76be08b"
      },
      "source": [
        "plots"
      ],
      "execution_count": 4,
      "outputs": [
        {
          "output_type": "execute_result",
          "data": {
            "text/plain": [
              "3107    most is the story of a single father who takes...\n",
              "900     a serial killer decides to teach the secrets o...\n",
              "6724    in sweden ,  a female blackmailer with a disfi...\n",
              "4704    in a friday afternoon in new york ,  the presi...\n",
              "2582    in los angeles ,  the editor of a publishing h...\n",
              "                              ...                        \n",
              "8417    \" our marriage ,  their wedding .  \"  it ' s l...\n",
              "1592    the wandering barbarian ,  conan ,  alongside ...\n",
              "1723    like a tale spun by scheherazade ,  kismet fol...\n",
              "7605    mrs .  brisby ,  a widowed mouse ,  lives in a...\n",
              "215     tinker bell journey far north of never land to...\n",
              "Name: plot, Length: 7895, dtype: object"
            ]
          },
          "metadata": {
            "tags": []
          },
          "execution_count": 4
        }
      ]
    },
    {
      "cell_type": "code",
      "metadata": {
        "id": "Bo2F1zVD9HdG",
        "colab_type": "code",
        "colab": {
          "base_uri": "https://localhost:8080/",
          "height": 139
        },
        "outputId": "9a75e11e-4706-4991-b9a7-54ddd3e3974d"
      },
      "source": [
        "plots[2582]"
      ],
      "execution_count": 5,
      "outputs": [
        {
          "output_type": "execute_result",
          "data": {
            "application/vnd.google.colaboratory.intrinsic": {
              "type": "string"
            },
            "text/plain": [
              "\"in los angeles ,  the editor of a publishing house carol hunnicut goes to a blind date with the lawyer michael tarlow ,  who has embezzled the powerful mobster leo watts .  carol accidentally witnesses the murder of michel by leo ' s hitman .  the scared carol sneaks out of michael ' s room and hides in an isolated cabin in canada .  meanwhile the deputy district attorney robert caulfield and sgt .  dominick benti discover that carol is a witness of the murder and they report the information to caulfield ' s chief martin larner and they head by helicopter to canada to convince carol to testify against leo .  however they are followed and the pilot and benti are murdered by the mafia .  caulfield and carol flees and they take a train to vancouver .  caulfield hides carol in his cabin and he discloses that there are three hitman in the train trying to find carol and kill her .  but they do not know her and caulfield does not know who might be the third killer from the mafia and who has betrayed him in his office .\""
            ]
          },
          "metadata": {
            "tags": []
          },
          "execution_count": 5
        }
      ]
    },
    {
      "cell_type": "code",
      "metadata": {
        "id": "q6DXlqrQ1vnd",
        "colab_type": "code",
        "colab": {
          "base_uri": "https://localhost:8080/",
          "height": 225
        },
        "outputId": "7279a5a9-3597-45ee-8df2-3b260e00f200"
      },
      "source": [
        "y"
      ],
      "execution_count": 6,
      "outputs": [
        {
          "output_type": "execute_result",
          "data": {
            "text/plain": [
              "3107    1\n",
              "900     0\n",
              "6724    1\n",
              "4704    1\n",
              "2582    1\n",
              "       ..\n",
              "8417    0\n",
              "1592    0\n",
              "1723    0\n",
              "7605    1\n",
              "215     1\n",
              "Name: rating, Length: 7895, dtype: int64"
            ]
          },
          "metadata": {
            "tags": []
          },
          "execution_count": 6
        }
      ]
    },
    {
      "cell_type": "code",
      "metadata": {
        "id": "jfvxGQyKciHO",
        "colab_type": "code",
        "colab": {
          "base_uri": "https://localhost:8080/",
          "height": 121
        },
        "outputId": "8a2d2202-74d4-41aa-d9e7-28e567dbb13c"
      },
      "source": [
        "dataTraining.dtypes"
      ],
      "execution_count": 7,
      "outputs": [
        {
          "output_type": "execute_result",
          "data": {
            "text/plain": [
              "year        int64\n",
              "title      object\n",
              "plot       object\n",
              "genres     object\n",
              "rating    float64\n",
              "dtype: object"
            ]
          },
          "metadata": {
            "tags": []
          },
          "execution_count": 7
        }
      ]
    },
    {
      "cell_type": "markdown",
      "metadata": {
        "id": "V1LKtnSJ1vnl",
        "colab_type": "text"
      },
      "source": [
        "# Exercise 14.1\n",
        "\n",
        "- Remove stopwords \n",
        "- Lowercase\n",
        "- split the text in words \n",
        "- pad_sequences"
      ]
    },
    {
      "cell_type": "markdown",
      "metadata": {
        "id": "cqnfSt3bARXt",
        "colab_type": "text"
      },
      "source": [
        ""
      ]
    },
    {
      "cell_type": "code",
      "metadata": {
        "id": "R3NEr304Tf3k",
        "colab_type": "code",
        "colab": {}
      },
      "source": [
        "import string\n",
        "import re\n",
        "def clean_text(article):\n",
        "    clean1 = re.sub(r'['+string.punctuation + '’—”'+']', \"\", article.lower())\n",
        "    return re.sub(r'\\W+', ' ', clean1)"
      ],
      "execution_count": 8,
      "outputs": []
    },
    {
      "cell_type": "code",
      "metadata": {
        "id": "wwH4hffDTmH-",
        "colab_type": "code",
        "colab": {}
      },
      "source": [
        "dataTraining['tockenized'] = dataTraining['plot'].map(lambda x: clean_text(x))"
      ],
      "execution_count": 9,
      "outputs": []
    },
    {
      "cell_type": "code",
      "metadata": {
        "id": "gR_L1NgeALfX",
        "colab_type": "code",
        "colab": {
          "base_uri": "https://localhost:8080/",
          "height": 139
        },
        "outputId": "30b57bdc-0ae9-456b-e578-4c399d42e79c"
      },
      "source": [
        "X = dataTraining['tockenized'].tolist()\n",
        "X[4]"
      ],
      "execution_count": 10,
      "outputs": [
        {
          "output_type": "execute_result",
          "data": {
            "application/vnd.google.colaboratory.intrinsic": {
              "type": "string"
            },
            "text/plain": [
              "'in los angeles the editor of a publishing house carol hunnicut goes to a blind date with the lawyer michael tarlow who has embezzled the powerful mobster leo watts carol accidentally witnesses the murder of michel by leo s hitman the scared carol sneaks out of michael s room and hides in an isolated cabin in canada meanwhile the deputy district attorney robert caulfield and sgt dominick benti discover that carol is a witness of the murder and they report the information to caulfield s chief martin larner and they head by helicopter to canada to convince carol to testify against leo however they are followed and the pilot and benti are murdered by the mafia caulfield and carol flees and they take a train to vancouver caulfield hides carol in his cabin and he discloses that there are three hitman in the train trying to find carol and kill her but they do not know her and caulfield does not know who might be the third killer from the mafia and who has betrayed him in his office '"
            ]
          },
          "metadata": {
            "tags": []
          },
          "execution_count": 10
        }
      ]
    },
    {
      "cell_type": "code",
      "metadata": {
        "id": "Wn2sMts8bK97",
        "colab_type": "code",
        "colab": {}
      },
      "source": [
        "def four_pounds_tokenizer(s):\n",
        "   return s.split('####')\n",
        "\n",
        "from sklearn.feature_extraction.text import CountVectorizer\n",
        "vect = CountVectorizer(stop_words = 'english', tokenizer = four_pounds_tokenizer)\n",
        "X_dtm = vect.fit_transform(X)"
      ],
      "execution_count": 11,
      "outputs": []
    },
    {
      "cell_type": "code",
      "metadata": {
        "id": "zy42w_1wPrb_",
        "colab_type": "code",
        "colab": {}
      },
      "source": [
        "v = vect.get_feature_names()\n",
        "voc = set((' '.join(v)).split())\n",
        "vocabulary = {x: idx + 1 for idx, x in enumerate(set(voc))}"
      ],
      "execution_count": 12,
      "outputs": []
    },
    {
      "cell_type": "code",
      "metadata": {
        "id": "Ks_LAd4uQxOX",
        "colab_type": "code",
        "colab": {}
      },
      "source": [
        "X1 = [x.split() for x in v]\n",
        "len_ = pd.Series([len(x) for x in X1])"
      ],
      "execution_count": 13,
      "outputs": []
    },
    {
      "cell_type": "code",
      "metadata": {
        "id": "xUOgHvgYRdkx",
        "colab_type": "code",
        "colab": {
          "base_uri": "https://localhost:8080/",
          "height": 173
        },
        "outputId": "5e94744e-c627-4bc1-89bf-2dfc9b93c0d5"
      },
      "source": [
        "len_.describe()"
      ],
      "execution_count": 14,
      "outputs": [
        {
          "output_type": "execute_result",
          "data": {
            "text/plain": [
              "count    7893.000000\n",
              "mean      126.630685\n",
              "std        84.399123\n",
              "min         1.000000\n",
              "25%        70.000000\n",
              "50%       110.000000\n",
              "75%       161.000000\n",
              "max      1723.000000\n",
              "dtype: float64"
            ]
          },
          "metadata": {
            "tags": []
          },
          "execution_count": 14
        }
      ]
    },
    {
      "cell_type": "code",
      "metadata": {
        "id": "bOIpCSc0HzsQ",
        "colab_type": "code",
        "colab": {}
      },
      "source": [
        "# Max len\n",
        "max_doc_len = 161\n",
        "X = [x[:max_doc_len] for x in X]\n",
        "# Convert characters to int and pad\n",
        "X = [[vocabulary[x1] for x1 in x if x1 in vocabulary.keys()] for x in X]"
      ],
      "execution_count": 15,
      "outputs": []
    },
    {
      "cell_type": "code",
      "metadata": {
        "id": "-Db43JFidyZ9",
        "colab_type": "code",
        "colab": {
          "base_uri": "https://localhost:8080/",
          "height": 34
        },
        "outputId": "b435f5e9-3b88-4717-9acd-1bb493b9c5e7"
      },
      "source": [
        "len(X)"
      ],
      "execution_count": 16,
      "outputs": [
        {
          "output_type": "execute_result",
          "data": {
            "text/plain": [
              "7895"
            ]
          },
          "metadata": {
            "tags": []
          },
          "execution_count": 16
        }
      ]
    },
    {
      "cell_type": "code",
      "metadata": {
        "id": "0UjEDGrmIZEe",
        "colab_type": "code",
        "colab": {
          "base_uri": "https://localhost:8080/",
          "height": 155
        },
        "outputId": "168ca880-67bd-4aec-8d21-247cf526c8fa"
      },
      "source": [
        "from keras.preprocessing import sequence\n",
        "X_pad = sequence.pad_sequences(X, maxlen = max_doc_len)\n",
        "X_pad"
      ],
      "execution_count": 17,
      "outputs": [
        {
          "output_type": "stream",
          "text": [
            "Using TensorFlow backend.\n"
          ],
          "name": "stderr"
        },
        {
          "output_type": "execute_result",
          "data": {
            "text/plain": [
              "array([[    0,     0,     0, ..., 33151, 28344,  9854],\n",
              "       [    0,     0,     0, ...,  9854, 14775,  2842],\n",
              "       [    0,     0,     0, ..., 21358,  5298,  6815],\n",
              "       ...,\n",
              "       [    0,     0,     0, ..., 28344,  9854,  6815],\n",
              "       [    0,     0,     0, ...,  6815, 19490, 21358],\n",
              "       [    0,     0,     0, ..., 14775,  9854,  9854]], dtype=int32)"
            ]
          },
          "metadata": {
            "tags": []
          },
          "execution_count": 17
        }
      ]
    },
    {
      "cell_type": "markdown",
      "metadata": {
        "id": "1fNFhYctC_ZM",
        "colab_type": "text"
      },
      "source": [
        ""
      ]
    },
    {
      "cell_type": "markdown",
      "metadata": {
        "id": "4wu2Qz5L1vns",
        "colab_type": "text"
      },
      "source": [
        "# Exercise 14.2\n",
        "\n",
        "Create a LSTM neural network to predict the rating of a movie\n",
        "\n",
        "Calculate the testing set accuracy"
      ]
    },
    {
      "cell_type": "code",
      "metadata": {
        "id": "CaNWMl7RgfeE",
        "colab_type": "code",
        "colab": {}
      },
      "source": [
        "import keras\n",
        "from keras import backend as K"
      ],
      "execution_count": 18,
      "outputs": []
    },
    {
      "cell_type": "code",
      "metadata": {
        "id": "7O6LqvpOgdfv",
        "colab_type": "code",
        "colab": {
          "base_uri": "https://localhost:8080/",
          "height": 505
        },
        "outputId": "287b1045-dc85-48ed-a625-d7df780cb8a5"
      },
      "source": [
        "!pip install livelossplot\n",
        "from keras.models import Sequential\n",
        "from keras.layers.recurrent import LSTM\n",
        "from keras.layers.core import Dense, Dropout\n",
        "from keras.layers.embeddings import Embedding\n",
        "from keras.preprocessing import sequence"
      ],
      "execution_count": 19,
      "outputs": [
        {
          "output_type": "stream",
          "text": [
            "Requirement already satisfied: livelossplot in /usr/local/lib/python3.6/dist-packages (0.5.1)\n",
            "Requirement already satisfied: ipython in /usr/local/lib/python3.6/dist-packages (from livelossplot) (5.5.0)\n",
            "Requirement already satisfied: matplotlib; python_version >= \"3.6\" in /usr/local/lib/python3.6/dist-packages (from livelossplot) (3.2.2)\n",
            "Requirement already satisfied: bokeh; python_version >= \"3.6\" in /usr/local/lib/python3.6/dist-packages (from livelossplot) (1.4.0)\n",
            "Requirement already satisfied: simplegeneric>0.8 in /usr/local/lib/python3.6/dist-packages (from ipython->livelossplot) (0.8.1)\n",
            "Requirement already satisfied: setuptools>=18.5 in /usr/local/lib/python3.6/dist-packages (from ipython->livelossplot) (47.3.1)\n",
            "Requirement already satisfied: traitlets>=4.2 in /usr/local/lib/python3.6/dist-packages (from ipython->livelossplot) (4.3.3)\n",
            "Requirement already satisfied: prompt-toolkit<2.0.0,>=1.0.4 in /usr/local/lib/python3.6/dist-packages (from ipython->livelossplot) (1.0.18)\n",
            "Requirement already satisfied: pickleshare in /usr/local/lib/python3.6/dist-packages (from ipython->livelossplot) (0.7.5)\n",
            "Requirement already satisfied: pexpect; sys_platform != \"win32\" in /usr/local/lib/python3.6/dist-packages (from ipython->livelossplot) (4.8.0)\n",
            "Requirement already satisfied: pygments in /usr/local/lib/python3.6/dist-packages (from ipython->livelossplot) (2.1.3)\n",
            "Requirement already satisfied: decorator in /usr/local/lib/python3.6/dist-packages (from ipython->livelossplot) (4.4.2)\n",
            "Requirement already satisfied: cycler>=0.10 in /usr/local/lib/python3.6/dist-packages (from matplotlib; python_version >= \"3.6\"->livelossplot) (0.10.0)\n",
            "Requirement already satisfied: numpy>=1.11 in /usr/local/lib/python3.6/dist-packages (from matplotlib; python_version >= \"3.6\"->livelossplot) (1.18.5)\n",
            "Requirement already satisfied: pyparsing!=2.0.4,!=2.1.2,!=2.1.6,>=2.0.1 in /usr/local/lib/python3.6/dist-packages (from matplotlib; python_version >= \"3.6\"->livelossplot) (2.4.7)\n",
            "Requirement already satisfied: kiwisolver>=1.0.1 in /usr/local/lib/python3.6/dist-packages (from matplotlib; python_version >= \"3.6\"->livelossplot) (1.2.0)\n",
            "Requirement already satisfied: python-dateutil>=2.1 in /usr/local/lib/python3.6/dist-packages (from matplotlib; python_version >= \"3.6\"->livelossplot) (2.8.1)\n",
            "Requirement already satisfied: packaging>=16.8 in /usr/local/lib/python3.6/dist-packages (from bokeh; python_version >= \"3.6\"->livelossplot) (20.4)\n",
            "Requirement already satisfied: six>=1.5.2 in /usr/local/lib/python3.6/dist-packages (from bokeh; python_version >= \"3.6\"->livelossplot) (1.12.0)\n",
            "Requirement already satisfied: pillow>=4.0 in /usr/local/lib/python3.6/dist-packages (from bokeh; python_version >= \"3.6\"->livelossplot) (7.0.0)\n",
            "Requirement already satisfied: PyYAML>=3.10 in /usr/local/lib/python3.6/dist-packages (from bokeh; python_version >= \"3.6\"->livelossplot) (3.13)\n",
            "Requirement already satisfied: tornado>=4.3 in /usr/local/lib/python3.6/dist-packages (from bokeh; python_version >= \"3.6\"->livelossplot) (4.5.3)\n",
            "Requirement already satisfied: Jinja2>=2.7 in /usr/local/lib/python3.6/dist-packages (from bokeh; python_version >= \"3.6\"->livelossplot) (2.11.2)\n",
            "Requirement already satisfied: ipython-genutils in /usr/local/lib/python3.6/dist-packages (from traitlets>=4.2->ipython->livelossplot) (0.2.0)\n",
            "Requirement already satisfied: wcwidth in /usr/local/lib/python3.6/dist-packages (from prompt-toolkit<2.0.0,>=1.0.4->ipython->livelossplot) (0.2.5)\n",
            "Requirement already satisfied: ptyprocess>=0.5 in /usr/local/lib/python3.6/dist-packages (from pexpect; sys_platform != \"win32\"->ipython->livelossplot) (0.6.0)\n",
            "Requirement already satisfied: MarkupSafe>=0.23 in /usr/local/lib/python3.6/dist-packages (from Jinja2>=2.7->bokeh; python_version >= \"3.6\"->livelossplot) (1.1.1)\n"
          ],
          "name": "stdout"
        }
      ]
    },
    {
      "cell_type": "code",
      "metadata": {
        "id": "U03ox-mjgiPD",
        "colab_type": "code",
        "colab": {}
      },
      "source": [
        "from livelossplot import PlotLossesKeras\n",
        "%matplotlib inline"
      ],
      "execution_count": 20,
      "outputs": []
    },
    {
      "cell_type": "code",
      "metadata": {
        "id": "kZYnLKmq1vnt",
        "colab_type": "code",
        "colab": {
          "base_uri": "https://localhost:8080/",
          "height": 51
        },
        "outputId": "bdd8db28-68c5-47aa-a134-6d9041dc8deb"
      },
      "source": [
        "from sklearn.model_selection import train_test_split\n",
        "X_train, X_test, y_train, y_test = train_test_split(X_pad, y, test_size = 0.33, random_state = 42)\n",
        "print(X_train.shape, y_train.shape)\n",
        "print(X_test.shape, y_test.shape)"
      ],
      "execution_count": 21,
      "outputs": [
        {
          "output_type": "stream",
          "text": [
            "(5289, 161) (5289,)\n",
            "(2606, 161) (2606,)\n"
          ],
          "name": "stdout"
        }
      ]
    },
    {
      "cell_type": "code",
      "metadata": {
        "id": "ItPonGLwgDTM",
        "colab_type": "code",
        "colab": {
          "base_uri": "https://localhost:8080/",
          "height": 329
        },
        "outputId": "19df182c-5102-468b-fdfb-c52842fb1759"
      },
      "source": [
        "from keras.optimizers import SGD\n",
        "opt = SGD(lr=0.001)\n",
        "\n",
        "#Initializing the classifier Network\n",
        "model = Sequential()\n",
        "model.add(Embedding(len(vocabulary) + 1, 128, input_length = max_doc_len))\n",
        "\n",
        "#Adding the input LSTM network layer\n",
        "model.add(LSTM(64, return_sequences=True))\n",
        "model.add(Dropout(0.2))\n",
        "\n",
        "#Adding a second LSTM network layer\n",
        "model.add(LSTM(64))\n",
        "\n",
        "#Adding the output layer\n",
        "model.add(Dense(1, activation = 'sigmoid'))\n",
        "\n",
        "#Compiling the network\n",
        "model.compile(loss = 'binary_crossentropy', optimizer = opt, metrics = ['accuracy'])\n",
        "\n",
        "model.summary()"
      ],
      "execution_count": 22,
      "outputs": [
        {
          "output_type": "stream",
          "text": [
            "Model: \"sequential_1\"\n",
            "_________________________________________________________________\n",
            "Layer (type)                 Output Shape              Param #   \n",
            "=================================================================\n",
            "embedding_1 (Embedding)      (None, 161, 128)          4954496   \n",
            "_________________________________________________________________\n",
            "lstm_1 (LSTM)                (None, 161, 64)           49408     \n",
            "_________________________________________________________________\n",
            "dropout_1 (Dropout)          (None, 161, 64)           0         \n",
            "_________________________________________________________________\n",
            "lstm_2 (LSTM)                (None, 64)                33024     \n",
            "_________________________________________________________________\n",
            "dense_1 (Dense)              (None, 1)                 65        \n",
            "=================================================================\n",
            "Total params: 5,036,993\n",
            "Trainable params: 5,036,993\n",
            "Non-trainable params: 0\n",
            "_________________________________________________________________\n"
          ],
          "name": "stdout"
        }
      ]
    },
    {
      "cell_type": "code",
      "metadata": {
        "id": "yAybKc8AgXrl",
        "colab_type": "code",
        "colab": {
          "base_uri": "https://localhost:8080/",
          "height": 447
        },
        "outputId": "dc96d985-0268-4c1a-f6f9-74189b4c8f3d"
      },
      "source": [
        "model.fit(X_train, y_train, validation_data=[X_test, y_test], \n",
        "          batch_size = 128, epochs = 10, verbose = 1,\n",
        "          callbacks=[PlotLossesKeras()])"
      ],
      "execution_count": 23,
      "outputs": [
        {
          "output_type": "display_data",
          "data": {
            "image/png": "[encoded data removed]",
            "text/plain": [
              "<Figure size 864x576 with 2 Axes>"
            ]
          },
          "metadata": {
            "tags": [],
            "needs_background": "light"
          }
        },
        {
          "output_type": "stream",
          "text": [
            "accuracy\n",
            "\tvalidation       \t (min:    0.521, max:    0.530, cur:    0.530)\n",
            "\ttraining         \t (min:    0.526, max:    0.528, cur:    0.528)\n",
            "Loss\n",
            "\tvalidation       \t (min:    0.692, max:    0.693, cur:    0.692)\n",
            "\ttraining         \t (min:    0.692, max:    0.693, cur:    0.692)\n"
          ],
          "name": "stdout"
        },
        {
          "output_type": "execute_result",
          "data": {
            "text/plain": [
              "<keras.callbacks.callbacks.History at 0x7f078f2ec048>"
            ]
          },
          "metadata": {
            "tags": []
          },
          "execution_count": 23
        }
      ]
    },
    {
      "cell_type": "code",
      "metadata": {
        "id": "NeLmNCLZPSI4",
        "colab_type": "code",
        "colab": {
          "base_uri": "https://localhost:8080/",
          "height": 69
        },
        "outputId": "c46f00c4-87b2-402b-eb34-db7b1ded635f"
      },
      "source": [
        "score, acc = model.evaluate(X_test, y_test, verbose = 1, batch_size = 128)\n",
        "print(\"Score: %.2f\" % (score))\n",
        "print(\"Validation Accuracy: %.2f\" % (acc))"
      ],
      "execution_count": 24,
      "outputs": [
        {
          "output_type": "stream",
          "text": [
            "2606/2606 [==============================] - 1s 353us/step\n",
            "Score: 0.69\n",
            "Validation Accuracy: 0.53\n"
          ],
          "name": "stdout"
        }
      ]
    },
    {
      "cell_type": "code",
      "metadata": {
        "id": "W7JO5KGNPdgD",
        "colab_type": "code",
        "colab": {}
      },
      "source": [
        ""
      ],
      "execution_count": 24,
      "outputs": []
    }
  ]
}